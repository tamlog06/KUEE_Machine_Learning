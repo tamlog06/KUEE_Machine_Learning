{
  "nbformat": 4,
  "nbformat_minor": 2,
  "metadata": {
    "colab": {
      "name": "EEML_warmup_linearreg.ipynb のコピー",
      "provenance": [],
      "collapsed_sections": [],
      "toc_visible": true
    },
    "kernelspec": {
      "name": "python3",
      "display_name": "Python 3.8.11 64-bit ('3.8.11': pyenv)"
    },
    "language_info": {
      "name": "python",
      "version": "3.8.11",
      "mimetype": "text/x-python",
      "codemirror_mode": {
        "name": "ipython",
        "version": 3
      },
      "pygments_lexer": "ipython3",
      "nbconvert_exporter": "python",
      "file_extension": ".py"
    },
    "interpreter": {
      "hash": "d637e0ccf5f945900da9b063696eba2ccd5057f52ceaf09f98c2f8991ff37041"
    }
  },
  "cells": [
    {
      "cell_type": "markdown",
      "source": [
        "# 第一部: Pythonの練習\n",
        "\n",
        "演習課題に入る前の準備として、PythonとNumPyの基本的な使い方を学習します。すでにPythonを使った経験がある場合は、ここを飛ばして第二部の演習課題に進んでください。\n",
        "\n",
        "Python, NumPyの文法に関する部分は[藤吉先生が提供している教材](https://github.com/machine-perception-robotics-group/MPRGDeepLearningLectureNotebook)を改変して使用しています。"
      ],
      "metadata": {
        "id": "ELukbchSDjUz"
      }
    },
    {
      "cell_type": "markdown",
      "source": [
        "## Jupyter Notebookの使い方\n",
        "\n",
        "### Jupyter Notebook = 対話的プログラミング環境\n",
        "\n",
        "ノートブックセルと呼ばれる最小単位から構成される。\n",
        "   - コードセル…ソースコードを記述する（今回はpythonを使う）\n",
        "   - Markdownセル…テキストを記述する\n",
        "\n",
        "\n",
        "次のコードセルを実行してみましょう（Ctrl+Enterもしくは️セルの左側の▸ボタン）。"
      ],
      "metadata": {
        "id": "UteTlFP-GkNA"
      }
    },
    {
      "cell_type": "code",
      "execution_count": 2,
      "source": [
        "print(\"Hello World\")"
      ],
      "outputs": [
        {
          "output_type": "stream",
          "name": "stdout",
          "text": [
            "Hello World\n"
          ]
        }
      ],
      "metadata": {
        "colab": {
          "base_uri": "https://localhost:8080/"
        },
        "id": "-QPxwbOfHJMD",
        "outputId": "d960fdb4-53d0-4fb3-c7b2-57d66f5cbddd"
      }
    },
    {
      "cell_type": "markdown",
      "source": [
        "***\n",
        "## Pythonプログラムの実行方法\n",
        "Pythonは近年、画像認識や機械学習等の人工知能研究分野で広く用いられているプログラミング言語です。\n",
        "\n",
        "Pythonの特徴としては、\n",
        "\n",
        "1. 基本的な文法が簡単で覚えやすい、書きやすい\n",
        "2. ユニバーサルな言語で、どのようなOSでも同じように動作することが可能\n",
        "3. 画像認識や機械学習、データ解析に役立つモジュールが豊富に開発されている\n",
        "\n",
        "という特徴があります。\n",
        "以下では、Pythonの基本的な文法をプログラムを交えて説明します。\n",
        "\n",
        "### モジュール\n",
        "モジュールとはPythonにおいて特定の計算を便利に行う、簡単に記述するためのプログラム群であり、C言語のライブラリに相当するものです。\n",
        "\n",
        "代表的なツールとしては\n",
        "* 行列演算など：numpy\n",
        "* 科学技術計算など：scipy\n",
        "* グラフの描画など：matplotlib\n",
        "* 機械学習：scikit-learn\n",
        "* ディープラーニング：pylearn2, caffe, chainer\n",
        "* 画像処理：pillow, scikit-image, opencv\n",
        "* シミュレーション：simpy\n",
        "* 解析的な計算：theano\n",
        "* インタラクティブシェル：ipython\n",
        "\n",
        "などの様々なものが存在しています。\n",
        "\n",
        "\n",
        "### print文\n",
        "定義した変数などを表示するためにはprint関数（print文）を用います。\n",
        "print関数の引数として複数の値を指定することで、一度に複数の情報を表示することができます。"
      ],
      "metadata": {
        "id": "Xc43kJ5jFSL2"
      }
    },
    {
      "cell_type": "code",
      "execution_count": 3,
      "source": [
        "print(\"Hello world!\")\n",
        "print(1)\n",
        "print(\"abc\", 123)"
      ],
      "outputs": [
        {
          "output_type": "stream",
          "name": "stdout",
          "text": [
            "Hello world!\n",
            "1\n",
            "abc 123\n"
          ]
        }
      ],
      "metadata": {
        "colab": {
          "base_uri": "https://localhost:8080/"
        },
        "id": "k4_uXm41EJBW",
        "outputId": "1d6d169f-a149-48fd-9ead-dc6ef4ab8575"
      }
    },
    {
      "cell_type": "markdown",
      "source": [
        "### Pythonの型\n",
        "\n",
        "Pythonの代表的な変数の型としては、以下のものが挙げられます。\n",
        "\n",
        "* 数値型：整数、浮動小数点数、複素数\n",
        "  - C言語のようなint, floatなどの型宣言は必要ありません\n",
        "* コンテナ：リスト、タプル、辞書、集合\n",
        "  - 型の混在が可能で、基本的にどんな型のデータでも代入可能\n",
        "* 文字列\n",
        "  - シングルクォート (') またはダブルクォート (\") で囲むことで文字列として表現\n",
        "* 定数：真偽値(True, False)、None(C言語のNULLに相当)\n",
        "\n",
        "以下では、本実習で使用する代表的な型とPythonの文法についてプログラムを交えて説明します。"
      ],
      "metadata": {
        "id": "SeUJ0LaMFZNG"
      }
    },
    {
      "cell_type": "code",
      "execution_count": 4,
      "source": [
        "# 整数、浮動小数点数\n",
        "i = 10\n",
        "f = 0.001\n",
        "\n",
        "# コンテナ（リスト、タプル、辞書、集合）\n",
        "l = [1, 0.01, \"abcd\"]\n",
        "t = (3, -4.5, \"defg\")\n",
        "d = {\"a\": 1.0, \"b\": 2.0, \"c\": 3.0}\n",
        "s = {1, 2, 3}\n",
        "\n",
        "# 真偽値\n",
        "b1 = True\n",
        "b2 = False\n",
        "\n",
        "# None\n",
        "n = None"
      ],
      "outputs": [],
      "metadata": {
        "id": "6SIRgyiRFXiR"
      }
    },
    {
      "cell_type": "markdown",
      "source": [
        "### 文字列\n",
        "文字列はダブルクォート「\"」かシングルクォート「'」で囲むことで定義します。\n",
        "\n",
        "#### 文字列の整形方法\n",
        "C言語のprintf系関数のようなものです。\n",
        "「%」演算子を利用します。\n",
        "複数の変数を文字列に代入する場合は「(...)」を用います。\n",
        "（下記プログラム参照)"
      ],
      "metadata": {
        "id": "J7KL8VYjFieC"
      }
    },
    {
      "cell_type": "code",
      "execution_count": 5,
      "source": [
        "# + 演算子で連結することが可能です\n",
        "string1 = \"abc\" + \"def\"\n",
        "print(string1)\n",
        "\n",
        "# 文字列の整形方法\n",
        "# 1. 一つの変数の場合\n",
        "value = 10\n",
        "string2 = \"integer: %d\" % value\n",
        "print(string2)\n",
        "\n",
        "# 2. 複数の場合\n",
        "value1 = 10\n",
        "float_val1 = 0.01\n",
        "str1 = \"abc\"\n",
        "string3 = \"integer: %d, float value: %f, string: %s\" % (value1, float_val1, str1)\n",
        "print(string3)"
      ],
      "outputs": [
        {
          "output_type": "stream",
          "name": "stdout",
          "text": [
            "abcdef\n",
            "integer: 10\n",
            "integer: 10, float value: 0.010000, string: abc\n"
          ]
        }
      ],
      "metadata": {
        "colab": {
          "base_uri": "https://localhost:8080/"
        },
        "id": "-iTVsnYeFfXk",
        "outputId": "e2da323c-8522-4b34-8feb-7c32002387a4"
      }
    },
    {
      "cell_type": "markdown",
      "source": [
        "#### 制御構文\n",
        "PythonでもC言語と同様の制御構文が用意されています。\n",
        "\n",
        "* if文\n",
        "* while文\n",
        "* for文\n",
        "\n",
        "C言語の大きな特徴としてこれらの制御構文の対象範囲をインデント（スペース4つまたは2つ）で表現することが挙げられます。スペースの数はプログラム内で統一する必要があります。"
      ],
      "metadata": {
        "id": "CZrDxpwhFu7k"
      }
    },
    {
      "cell_type": "code",
      "execution_count": 6,
      "source": [
        "# if文\n",
        "a = 0.5\n",
        "if a < 0:\n",
        "    print(\"negative value\")\n",
        "elif a > 0:\n",
        "    print(\"positive value\")\n",
        "else:\n",
        "    print(\"zero\")\n",
        "\n",
        "# while文\n",
        "print(\"==========\")\n",
        "b = 0\n",
        "while b < 5:\n",
        "    print(b)\n",
        "    b += 1\n",
        "\n",
        "# for文 1 \n",
        "print(\"==========\")\n",
        "c = [0.1, 2.34, 5.6, 7.89]\n",
        "for x in c:\n",
        "    print(x)"
      ],
      "outputs": [
        {
          "output_type": "stream",
          "name": "stdout",
          "text": [
            "positive value\n",
            "==========\n",
            "0\n",
            "1\n",
            "2\n",
            "3\n",
            "4\n",
            "==========\n",
            "0.1\n",
            "2.34\n",
            "5.6\n",
            "7.89\n"
          ]
        }
      ],
      "metadata": {
        "colab": {
          "base_uri": "https://localhost:8080/"
        },
        "id": "OjxhSahOFsQf",
        "outputId": "318aca85-6d3d-423e-b3c4-a2b2234dc40d"
      }
    },
    {
      "cell_type": "markdown",
      "source": [
        "#### 関数\n",
        "Pythonの関数は「def」で定義を行います。\n",
        "関数の定義でも上の制御構文と同様にインデントを用いて範囲を指定します"
      ],
      "metadata": {
        "id": "53OpCKoYFz-W"
      }
    },
    {
      "cell_type": "code",
      "execution_count": 7,
      "source": [
        "# 関数定義\n",
        "def sample_func1(x, y):\n",
        "    z = x + y\n",
        "    return z\n",
        "  \n",
        "# 関数の実行\n",
        "a = 10\n",
        "b = 20\n",
        "c = sample_func1(a, b)\n",
        "print(c)"
      ],
      "outputs": [
        {
          "output_type": "stream",
          "name": "stdout",
          "text": [
            "30\n"
          ]
        }
      ],
      "metadata": {
        "colab": {
          "base_uri": "https://localhost:8080/"
        },
        "id": "pMmBOyEUFx2w",
        "outputId": "e7bca985-6736-467f-f1bc-aaba00c79a5f"
      }
    },
    {
      "cell_type": "markdown",
      "source": [
        "#### 多重代入\n",
        "C言語と異なり、複数の値を同時にreturnできる。"
      ],
      "metadata": {
        "id": "yavv1L4nF3f-"
      }
    },
    {
      "cell_type": "code",
      "execution_count": 8,
      "source": [
        "def sample_func2(x, y):\n",
        "    x = a + 1\n",
        "    y = b * 2\n",
        "    return x, y\n",
        "  \n",
        "c, d = sample_func2(1, 2)\n",
        "print(c, d)"
      ],
      "outputs": [
        {
          "output_type": "stream",
          "name": "stdout",
          "text": [
            "11 40\n"
          ]
        }
      ],
      "metadata": {
        "colab": {
          "base_uri": "https://localhost:8080/"
        },
        "id": "he4ygW8EF3-J",
        "outputId": "aa63dd9f-87d0-469a-d4bb-4d16bd60966d"
      }
    },
    {
      "cell_type": "markdown",
      "source": [
        "#### モジュールのインポートと実行\n",
        "モジュールは「import」を用いることでプログラム内で使用することが可能です。\n",
        "ここでは、行列計算のモジュールである「Numpy」を使用してみます。"
      ],
      "metadata": {
        "id": "eL2S6FNvF_Aw"
      }
    },
    {
      "cell_type": "code",
      "execution_count": 9,
      "source": [
        "# 通常の読み込み\n",
        "import numpy\n",
        "\n",
        "# numpyという関数をnpという名前で使用できるように読み込む\n",
        "import numpy as np\n",
        "\n",
        "# numpy.linalgの中のnormという関数を読み込む（他は読み込まない）\n",
        "from numpy.linalg import norm"
      ],
      "outputs": [],
      "metadata": {
        "id": "wdCC1PD8F856"
      }
    },
    {
      "cell_type": "markdown",
      "source": [
        "***\n",
        "## Numpyの基本的な使い方\n",
        "本実習をはじめとする画像認識や機械学習のプログラムでは、Numpyを用いてデータの操作を行います。\n",
        "以下では、Numpyの基本的な使い方をプログラムを通じて学びます。\n",
        "\n",
        "### N次元配列：ndarray\n",
        "Numpyでは上のリストやタプルとは異なり、型を統一する必要があります。"
      ],
      "metadata": {
        "id": "jqzFdQViGEby"
      }
    },
    {
      "cell_type": "code",
      "execution_count": 10,
      "source": [
        "import numpy as np\n",
        "\n",
        "a = np.array([[0, 0, 1], [0, 0, 2]], dtype=np.float32) # dtype=***で配列要素の型を決めています\n",
        "b = np.array([[1, 2, 3], [4, 5, 6]], dtype=np.float32)\n",
        "print(a)\n",
        "print(b)\n",
        "\n",
        "# 行列の演算（和・積）\n",
        "c = a + b\n",
        "d = a * b  # * は要素ごとの掛け算です\n",
        "print(c)\n",
        "print(d)\n",
        "\n",
        "# （数学的な）行列の掛け算\n",
        "e = np.dot(a, b.T)   # b.Tは行列bの転置を表しています\n",
        "print(e)"
      ],
      "outputs": [
        {
          "output_type": "stream",
          "name": "stdout",
          "text": [
            "[[0. 0. 1.]\n",
            " [0. 0. 2.]]\n",
            "[[1. 2. 3.]\n",
            " [4. 5. 6.]]\n",
            "[[1. 2. 4.]\n",
            " [4. 5. 8.]]\n",
            "[[ 0.  0.  3.]\n",
            " [ 0.  0. 12.]]\n",
            "[[ 3.  6.]\n",
            " [ 6. 12.]]\n"
          ]
        }
      ],
      "metadata": {
        "colab": {
          "base_uri": "https://localhost:8080/"
        },
        "id": "vJ_gamYEGBrq",
        "outputId": "b60c4a6a-1f13-47d4-bdd2-5eadfa98e778"
      }
    },
    {
      "cell_type": "markdown",
      "source": [
        "### 行列の扱い方\n",
        "\n",
        "#### 特定の要素を取り出す（インデキシング）\n",
        "\n",
        "`a[i, j]`：行列aの`(i, j)`要素を取り出します。\n",
        "\n",
        "####  特定の範囲を切り出す（スライシング）\n",
        "範囲を指定する際にはコロン「:」を用います\n",
        "\n",
        "`a[i,:]`：行列aの`i`行目（のベクトル）\n",
        "\n",
        "`a[:,j]`：行列aの`j`列目（のベクトル）\n",
        "\n",
        "`a[:,0:3]`：行列aの`0, 1, 2`列目の部分行列\n",
        "\n",
        "#### ファンシーインデキシング\n",
        "\n",
        "条件に合致する特定の要素のみを取り出します。\n",
        "認識を失敗したデータだけを取り出す場合などに用いることができる便利な機能です。\n"
      ],
      "metadata": {
        "id": "l2ry_6eMGJdU"
      }
    },
    {
      "cell_type": "code",
      "execution_count": 11,
      "source": [
        "# インデキシング\n",
        "a_elem = a[0, 2]\n",
        "print(a_elem)\n",
        "\n",
        "# スライシング\n",
        "a_slice1 = a[1, :]\n",
        "a_slice2 = a[:, 2]\n",
        "print(a_slice1)\n",
        "print(a_slice2)\n",
        "\n",
        "b_slice = b[1, 0:2]\n",
        "print(b_slice)\n",
        "\n",
        "# ファンシーインデキシング\n",
        "a = np.array([1, 0, 1, 0, 0], dtype=np.int32)\n",
        "b = np.array([[0, 1, 2, 3, 4], [5, 6, 7, 8, 9]], dtype=np.float32)\n",
        "print(b[:, a == 1])"
      ],
      "outputs": [
        {
          "output_type": "stream",
          "name": "stdout",
          "text": [
            "1.0\n",
            "[0. 0. 2.]\n",
            "[1. 2.]\n",
            "[4. 5.]\n",
            "[[0. 2.]\n",
            " [5. 7.]]\n"
          ]
        }
      ],
      "metadata": {
        "colab": {
          "base_uri": "https://localhost:8080/"
        },
        "id": "eBTBq489GI7d",
        "outputId": "4a8ec777-c5f7-40e9-bfb2-f0a995be3784"
      }
    },
    {
      "cell_type": "markdown",
      "source": [
        "### Numpyの便利な関数\n",
        "Numpyには行列を演算するための便利な関数が多数含まれています。\n",
        "以下では、いくつかの関数を紹介します。\n",
        "ここで全てを紹介することは難しいので、興味のある方は公式のreferenceページへアクセスして調べてみてください。\n",
        "\n",
        "[Numpy Reference (関数一覧の公式ページ)](https://docs.scipy.org/doc/numpy/reference/)"
      ],
      "metadata": {
        "id": "JB1XoZ7aGQUm"
      }
    },
    {
      "cell_type": "code",
      "execution_count": 12,
      "source": [
        "a = np.array([0,1,2], dtype=np.float32)\n",
        "\n",
        "# exp(指数関数を要素ごとに計算)\n",
        "print(np.exp(a))\n",
        "# power(累乗)\n",
        "print(np.power(a, 2))\n"
      ],
      "outputs": [
        {
          "output_type": "stream",
          "name": "stdout",
          "text": [
            "[1.        2.7182817 7.389056 ]\n",
            "[0. 1. 4.]\n"
          ]
        }
      ],
      "metadata": {
        "colab": {
          "base_uri": "https://localhost:8080/"
        },
        "id": "QXUjZlg4GOH1",
        "outputId": "30dba798-3b1f-4708-81ce-da51c3b131ba"
      }
    },
    {
      "cell_type": "markdown",
      "source": [
        "# 第二部：演習課題\n",
        "\n",
        "この課題では、最小二乗法を使用した多項式フィッティングを python を用いて実装します。\n",
        "\n",
        " "
      ],
      "metadata": {
        "id": "JOknGKOVoP7q"
      }
    },
    {
      "cell_type": "markdown",
      "source": [
        "## サンプルデータの作成\n",
        "\n",
        "まず、課題に使用するデータを作成します。今回は正弦曲線にノイズを付加して人工的なデータを作成します。"
      ],
      "metadata": {
        "id": "TY55iX5srcyw"
      }
    },
    {
      "cell_type": "code",
      "execution_count": 13,
      "source": [
        "import numpy as np\n",
        "import matplotlib.pyplot as plt\n",
        "from tqdm import tqdm\n",
        "# これ以外のモジュールの使用は禁止です\n",
        "\n",
        "np.random.seed(0)\n",
        "\n",
        "n_data = 30\n",
        "X = np.random.uniform(0, 1, size=n_data)\n",
        "y = np.sin(7*X) + 0.2* np.random.randn(n_data)"
      ],
      "outputs": [],
      "metadata": {
        "id": "doi9H5X6r_7Z"
      }
    },
    {
      "cell_type": "code",
      "execution_count": 14,
      "source": [
        "# 作成したデータ\n",
        "plt.scatter(X, y)\n",
        "\n",
        "# 正弦曲線\n",
        "x = np.arange(0, 1, 0.01)\n",
        "plt.plot(x, np.sin(7*x), c='r')"
      ],
      "outputs": [
        {
          "output_type": "execute_result",
          "data": {
            "text/plain": [
              "[<matplotlib.lines.Line2D at 0x11ca45b80>]"
            ]
          },
          "metadata": {},
          "execution_count": 14
        },
        {
          "output_type": "display_data",
          "data": {
            "image/png": "[encoded data removed]",
            "text/plain": [
              "<Figure size 432x288 with 1 Axes>"
            ]
          },
          "metadata": {
            "needs_background": "light"
          }
        }
      ],
      "metadata": {
        "colab": {
          "base_uri": "https://localhost:8080/",
          "height": 282
        },
        "id": "uXa1LI7jsM9g",
        "outputId": "748c9b60-69e9-49b5-e5cb-410a6b37d73e"
      }
    },
    {
      "cell_type": "markdown",
      "source": [
        "#### 演習1：データの分割\n",
        "データを学習用・テスト用に分割します。訓練データ数:テストデータ数＝5：5 となるようにデータを分割してください。\n"
      ],
      "metadata": {
        "id": "qt7aLYgn2VW3"
      }
    },
    {
      "cell_type": "code",
      "execution_count": 15,
      "source": [
        "# ヒント：次の手順でデータを分割する（必ずしもこの方法でやる必要はない）\n",
        "# 1. データ数分のインデックスが入った配列 [0, 1, ..., データ数-1] を作る。np.arange() を使う\n",
        "# 2. 1で作った配列をシャッフルする。np.random.permutation() を使う\n",
        "# 3. シャッフルした配列の前８割を訓練データのインデックス、後ろ２割をテストデータのインデックスとして使用する\n",
        "\n",
        "array = np.arange(n_data)\n",
        "array = np.random.permutation(array)\n",
        "\n",
        "train_X = np.array([X[array[:n_data//2]]])\n",
        "train_y = np.array([y[array[:n_data//2]]])\n",
        "test_X = np.array([X[array[n_data//2:]]])\n",
        "test_y = np.array([y[array[n_data//2:]]])"
      ],
      "outputs": [],
      "metadata": {
        "id": "iSMsPY5qsU-t"
      }
    },
    {
      "cell_type": "markdown",
      "source": [
        "## 回帰モデルの作成\n",
        "\n",
        "フィッティングに使用する回帰モデルは次の式で表されます。$x$ がデータ、$\\theta$ がモデルのパラメータです。\n",
        "\n",
        "$$\n",
        "\\begin{eqnarray}\n",
        "h(x)&=& \\theta_{0}+\\theta_{1} x+\\theta_{2} x^2 + \\theta_{3} x^3 \\\\\n",
        "&=& \n",
        " (1, x, x^2, x^3)\n",
        " \\left(\n",
        "\\begin{array}{c}\n",
        "\\theta_0 \\\\\n",
        "\\theta_1 \\\\\n",
        "\\theta_2 \\\\\n",
        "\\theta_3 \n",
        "\\end{array}\n",
        "\\right)\n",
        " \\\\\n",
        "&=& X \\theta\n",
        "\\end{eqnarray}\n",
        "$$\n"
      ],
      "metadata": {
        "id": "I-jWihrogy6j"
      }
    },
    {
      "cell_type": "markdown",
      "source": [
        "#### 演習2：特徴量行列の作成\n",
        "\n",
        "多項式フィッティングを行うため、データベクトル$x$から上式の行列$X$を作成する関数を作成してください。$X$は (サンプル数 x 5）のサイズの行列になります。\n",
        "\n",
        "ヒント：np.vstack を使用するとベクトルを結合して行列にすることができます。"
      ],
      "metadata": {
        "id": "XaUJVkVud4Ht"
      }
    },
    {
      "cell_type": "code",
      "execution_count": 16,
      "source": [
        "def make_polymatrix(x, k=3):\n",
        "    # xは入力データ、kは多項式の次数\n",
        "    array = x.T\n",
        "    matrix = array**0\n",
        "    for i in range(1, k+1):\n",
        "      matrix = np.hstack((matrix, array**i))\n",
        "    return matrix"
      ],
      "outputs": [],
      "metadata": {
        "id": "n4c7fzcQfw4a"
      }
    },
    {
      "cell_type": "markdown",
      "source": [
        "#### 演習3：回帰モデルの実装\n",
        "\n",
        "上式の関数 $h(x)$ を実装してください。"
      ],
      "metadata": {
        "id": "jfx5guyihVo6"
      }
    },
    {
      "cell_type": "code",
      "execution_count": 17,
      "source": [
        "def h(x, theta, k=3, option=False):\n",
        "    X = make_polymatrix(x, k)\n",
        "    if option:\n",
        "      print(f'X: {X.shape}, theta: {theta.shape}')\n",
        "    return X @ theta"
      ],
      "outputs": [],
      "metadata": {
        "id": "Q1E26b5YjWy4"
      }
    },
    {
      "cell_type": "markdown",
      "source": [
        "## 1. 解析的な解き方\n",
        "\n",
        "最小二乗法に基づき、回帰モデルの微分値を0と置いてパラメータについて解くことで次の式を得ます。\n",
        "\n",
        "$$\n",
        "\\hat{\\theta} = (X^TX)^{-1}X^Ty\n",
        "$$\n"
      ],
      "metadata": {
        "id": "qb0ylzImI0-4"
      }
    },
    {
      "cell_type": "markdown",
      "source": [
        "#### 演習4：解析的な解き方\n",
        "\n",
        "上の式に基づいて、解析的にパラメータを求める関数を作成してください。"
      ],
      "metadata": {
        "id": "EDTEmUmwK_bs"
      }
    },
    {
      "cell_type": "code",
      "execution_count": 18,
      "source": [
        "def compute_theta(x, y, k=3):\n",
        "    X = make_polymatrix(x, k)\n",
        "    return np.linalg.inv(X.T @ X) @ X.T @ y\n",
        "\n",
        "theta = compute_theta(train_X, train_y.T)\n",
        "print(theta)"
      ],
      "outputs": [
        {
          "output_type": "stream",
          "name": "stdout",
          "text": [
            "[[  0.24481642]\n",
            " [  6.72310368]\n",
            " [-25.54963134]\n",
            " [ 19.43011782]]\n"
          ]
        }
      ],
      "metadata": {
        "id": "UbumF7980R4R",
        "colab": {
          "base_uri": "https://localhost:8080/"
        },
        "outputId": "cdb27ba5-416c-44ec-e2bc-ee72df48b1d9"
      }
    },
    {
      "cell_type": "markdown",
      "source": [
        "得られた $\\theta$ を使って、フィッティング後の多項式をテストデータの散布図に重ねて表示してください。"
      ],
      "metadata": {
        "id": "x_n02zVuj_Dl"
      }
    },
    {
      "cell_type": "code",
      "execution_count": 19,
      "source": [
        "# ヒント：データを表示するには plt.scatter を、多項式を表示するには plt.plot を使う\n",
        "\n",
        "plt.scatter(X, y)\n",
        "x = np.arange(0, 1, 0.01)\n",
        "plt.plot(x, h(np.array([x]), theta), c='r')"
      ],
      "outputs": [
        {
          "output_type": "execute_result",
          "data": {
            "text/plain": [
              "[<matplotlib.lines.Line2D at 0x11cb58430>]"
            ]
          },
          "metadata": {},
          "execution_count": 19
        },
        {
          "output_type": "display_data",
          "data": {
            "image/png": "[encoded data removed]",
            "text/plain": [
              "<Figure size 432x288 with 1 Axes>"
            ]
          },
          "metadata": {
            "needs_background": "light"
          }
        }
      ],
      "metadata": {
        "colab": {
          "base_uri": "https://localhost:8080/",
          "height": 282
        },
        "id": "To0pblIBdpoS",
        "outputId": "683eddad-4034-4b2c-91fd-40b93e131acd"
      }
    },
    {
      "cell_type": "markdown",
      "source": [
        "### 追加１　numpy の polyfit 関数を使って簡単に実装してみる"
      ],
      "metadata": {}
    },
    {
      "cell_type": "code",
      "execution_count": 20,
      "source": [
        "# 近似パラメータthetaを算出\n",
        "coe = np.polyfit(train_X.flatten(), train_y.flatten(), 3)\n",
        "print(coe)\n",
        "\n",
        "# 得られたパラメータthetaからカーブフィット後の波形を作成\n",
        "x = np.arange(0, 1, 0.01)\n",
        "plt.scatter(X, y)\n",
        "plt.plot(x, h(np.array([x]), coe[::-1]), c='r')"
      ],
      "outputs": [
        {
          "output_type": "stream",
          "name": "stdout",
          "text": [
            "[ 19.43011782 -25.54963134   6.72310368   0.24481642]\n"
          ]
        },
        {
          "output_type": "execute_result",
          "data": {
            "text/plain": [
              "[<matplotlib.lines.Line2D at 0x11cbd51c0>]"
            ]
          },
          "metadata": {},
          "execution_count": 20
        },
        {
          "output_type": "display_data",
          "data": {
            "image/png": "[encoded data removed]",
            "text/plain": [
              "<Figure size 432x288 with 1 Axes>"
            ]
          },
          "metadata": {
            "needs_background": "light"
          }
        }
      ],
      "metadata": {}
    },
    {
      "cell_type": "markdown",
      "source": [
        "### 追加２　polyfit関数を使って任意の次数で回帰モデルを作成する関数を作ってみる"
      ],
      "metadata": {}
    },
    {
      "cell_type": "code",
      "execution_count": 29,
      "source": [
        "def coe(X, y, k, option=True):\n",
        "    # 近似パラメータthetaを算出\n",
        "    coe = np.polyfit(X.flatten(), y.flatten(), k)\n",
        "    print(coe)\n",
        "\n",
        "    # グラフを作成\n",
        "    if option:\n",
        "        # 得られたパラメータthetaからカーブフィット後の波形を作成\n",
        "        x = np.arange(0, 1, 0.01)\n",
        "        plt.title(f'{k} order approximation')\n",
        "        plt.scatter(X, y)\n",
        "        plt.plot(x, h(np.array([x]), coe[::-1], k), c='r')\n",
        "        plt.show()\n",
        "    return coe\n",
        "\n",
        "for i in range(8):\n",
        "    coe(train_X, train_y, k=i)"
      ],
      "outputs": [
        {
          "output_type": "stream",
          "name": "stdout",
          "text": [
            "[-0.01072851]\n"
          ]
        },
        {
          "output_type": "display_data",
          "data": {
            "image/png": "[encoded data removed]",
            "text/plain": [
              "<Figure size 432x288 with 1 Axes>"
            ]
          },
          "metadata": {
            "needs_background": "light"
          }
        },
        {
          "output_type": "stream",
          "name": "stdout",
          "text": [
            "[-0.91929329  0.4814149 ]\n"
          ]
        },
        {
          "output_type": "display_data",
          "data": {
            "image/png": "[encoded data removed]",
            "text/plain": [
              "<Figure size 432x288 with 1 Axes>"
            ]
          },
          "metadata": {
            "needs_background": "light"
          }
        },
        {
          "output_type": "stream",
          "name": "stdout",
          "text": [
            "[ 4.87201122 -5.94887669  1.29495947]\n"
          ]
        },
        {
          "output_type": "display_data",
          "data": {
            "image/png": "[encoded data removed]",
            "text/plain": [
              "<Figure size 432x288 with 1 Axes>"
            ]
          },
          "metadata": {
            "needs_background": "light"
          }
        },
        {
          "output_type": "stream",
          "name": "stdout",
          "text": [
            "[ 19.43011782 -25.54963134   6.72310368   0.24481642]\n"
          ]
        },
        {
          "output_type": "display_data",
          "data": {
            "image/png": "[encoded data removed]",
            "text/plain": [
              "<Figure size 432x288 with 1 Axes>"
            ]
          },
          "metadata": {
            "needs_background": "light"
          }
        },
        {
          "output_type": "stream",
          "name": "stdout",
          "text": [
            "[-15.43155278  53.62814446 -50.82329271  13.58141454  -0.21327731]\n"
          ]
        },
        {
          "output_type": "display_data",
          "data": {
            "image/png": "[encoded data removed]",
            "text/plain": [
              "<Figure size 432x288 with 1 Axes>"
            ]
          },
          "metadata": {
            "needs_background": "light"
          }
        },
        {
          "output_type": "stream",
          "name": "stdout",
          "text": [
            "[-248.31409381  634.24076104 -560.85746248  202.82389199  -29.84505425\n",
            "    2.06455088]\n"
          ]
        },
        {
          "output_type": "display_data",
          "data": {
            "image/png": "[encoded data removed]",
            "text/plain": [
              "<Figure size 432x288 with 1 Axes>"
            ]
          },
          "metadata": {
            "needs_background": "light"
          }
        },
        {
          "output_type": "stream",
          "name": "stdout",
          "text": [
            "[  275.55405945 -1119.77425907  1690.4259754  -1171.55651029\n",
            "   372.80100361   -50.02223398     2.86591176]\n"
          ]
        },
        {
          "output_type": "display_data",
          "data": {
            "image/png": "[encoded data removed]",
            "text/plain": [
              "<Figure size 432x288 with 1 Axes>"
            ]
          },
          "metadata": {
            "needs_background": "light"
          }
        },
        {
          "output_type": "stream",
          "name": "stdout",
          "text": [
            "[-1.69978399e+03  6.69698194e+03 -1.08882568e+04  9.32476377e+03\n",
            " -4.40426404e+03  1.08725525e+03 -1.22108569e+02  5.41247685e+00]\n"
          ]
        },
        {
          "output_type": "display_data",
          "data": {
            "image/png": "[encoded data removed]",
            "text/plain": [
              "<Figure size 432x288 with 1 Axes>"
            ]
          },
          "metadata": {
            "needs_background": "light"
          }
        }
      ],
      "metadata": {}
    },
    {
      "cell_type": "markdown",
      "source": [],
      "metadata": {}
    },
    {
      "cell_type": "markdown",
      "source": [
        "## 2. 勾配降下法を使った解き方\n",
        "\n",
        "勾配降下法を使って実装する場合、二条誤差のパラメータに関する勾配を計算し、パラメータを更新します。\n",
        "\n",
        "$$\n",
        "\\begin{eqnarray}\n",
        "E(x) &=& \\sum_{i}^{n} \\{y_i - h(x_i)\\}^2 \\\\\n",
        "\\theta &\\leftarrow& \\theta - \\alpha \\nabla_\\theta E(x)\n",
        "\\end{eqnarray}\n",
        "$$\n",
        "\n",
        "ここで、$n$はデータの個数、$\\alpha$ は学習率を表します。"
      ],
      "metadata": {
        "id": "nIm0m-YiJgxS"
      }
    },
    {
      "cell_type": "markdown",
      "source": [
        "#### 演習5：勾配の計算（3点）\n",
        "\n",
        "まず、上の式に基づいて $\\theta$ についての勾配 $ \\nabla_\\theta E(x)$ を求めます。$\\theta_k (k=0～3)$ に関する微分は次のようになります.\n",
        "\n",
        "$$\n",
        "\\begin{eqnarray}\n",
        "\\frac{dE}{d\\theta_k} &=& \\frac{-2}{n} \\sum_{i}^{n} x_i^k  \\{y_i - h(x_i)\\}\n",
        "\\end{eqnarray}\n",
        "$$\n",
        "\n",
        "上式に基づいて、 $ \\nabla_\\theta E(x)$ を計算する関数を作成してください。\n"
      ],
      "metadata": {
        "id": "nMMVz8SMdRTa"
      }
    },
    {
      "cell_type": "code",
      "execution_count": 30,
      "source": [
        "def calc_grad(x, y, theta, k=3):\n",
        "    E_grad = np.array([])\n",
        "    n = x.size\n",
        "\n",
        "    for i in range(k+1):\n",
        "      E_grad = np.append(E_grad, -2/n * np.sum((x.T)**i * (y.T - h(x, theta, k))))\n",
        "    return E_grad\n",
        "\n",
        "grad_theta = calc_grad(train_X, train_y, theta)\n",
        "print(grad_theta)"
      ],
      "outputs": [
        {
          "output_type": "stream",
          "name": "stderr",
          "text": [
            "/var/folders/5d/6b5z7q4d4fb1r882y3_fdlsm0000gn/T/ipykernel_2577/858316467.py:5: VisibleDeprecationWarning: Creating an ndarray from ragged nested sequences (which is a list-or-tuple of lists-or-tuples-or ndarrays with different lengths or shapes) is deprecated. If you meant to do this, you must specify 'dtype=object' when creating the ndarray.\n",
            "  return X @ theta\n"
          ]
        },
        {
          "output_type": "error",
          "ename": "ValueError",
          "evalue": "matmul: Input operand 1 has a mismatch in its core dimension 0, with gufunc signature (n?,k),(k,m?)->(n?,m?) (size 8 is different from 4)",
          "traceback": [
            "\u001b[0;31m---------------------------------------------------------------------------\u001b[0m",
            "\u001b[0;31mValueError\u001b[0m                                Traceback (most recent call last)",
            "\u001b[0;32m/var/folders/5d/6b5z7q4d4fb1r882y3_fdlsm0000gn/T/ipykernel_2577/502780428.py\u001b[0m in \u001b[0;36m<module>\u001b[0;34m\u001b[0m\n\u001b[1;32m      7\u001b[0m     \u001b[0;32mreturn\u001b[0m \u001b[0mE_grad\u001b[0m\u001b[0;34m\u001b[0m\u001b[0;34m\u001b[0m\u001b[0m\n\u001b[1;32m      8\u001b[0m \u001b[0;34m\u001b[0m\u001b[0m\n\u001b[0;32m----> 9\u001b[0;31m \u001b[0mgrad_theta\u001b[0m \u001b[0;34m=\u001b[0m \u001b[0mcalc_grad\u001b[0m\u001b[0;34m(\u001b[0m\u001b[0mtrain_X\u001b[0m\u001b[0;34m,\u001b[0m \u001b[0mtrain_y\u001b[0m\u001b[0;34m,\u001b[0m \u001b[0mtheta\u001b[0m\u001b[0;34m)\u001b[0m\u001b[0;34m\u001b[0m\u001b[0;34m\u001b[0m\u001b[0m\n\u001b[0m\u001b[1;32m     10\u001b[0m \u001b[0mprint\u001b[0m\u001b[0;34m(\u001b[0m\u001b[0mgrad_theta\u001b[0m\u001b[0;34m)\u001b[0m\u001b[0;34m\u001b[0m\u001b[0;34m\u001b[0m\u001b[0m\n",
            "\u001b[0;32m/var/folders/5d/6b5z7q4d4fb1r882y3_fdlsm0000gn/T/ipykernel_2577/502780428.py\u001b[0m in \u001b[0;36mcalc_grad\u001b[0;34m(x, y, theta, k)\u001b[0m\n\u001b[1;32m      4\u001b[0m \u001b[0;34m\u001b[0m\u001b[0m\n\u001b[1;32m      5\u001b[0m     \u001b[0;32mfor\u001b[0m \u001b[0mi\u001b[0m \u001b[0;32min\u001b[0m \u001b[0mrange\u001b[0m\u001b[0;34m(\u001b[0m\u001b[0mk\u001b[0m\u001b[0;34m+\u001b[0m\u001b[0;36m1\u001b[0m\u001b[0;34m)\u001b[0m\u001b[0;34m:\u001b[0m\u001b[0;34m\u001b[0m\u001b[0;34m\u001b[0m\u001b[0m\n\u001b[0;32m----> 6\u001b[0;31m       \u001b[0mE_grad\u001b[0m \u001b[0;34m=\u001b[0m \u001b[0mnp\u001b[0m\u001b[0;34m.\u001b[0m\u001b[0mappend\u001b[0m\u001b[0;34m(\u001b[0m\u001b[0mE_grad\u001b[0m\u001b[0;34m,\u001b[0m \u001b[0;34m-\u001b[0m\u001b[0;36m2\u001b[0m\u001b[0;34m/\u001b[0m\u001b[0mn\u001b[0m \u001b[0;34m*\u001b[0m \u001b[0mnp\u001b[0m\u001b[0;34m.\u001b[0m\u001b[0msum\u001b[0m\u001b[0;34m(\u001b[0m\u001b[0;34m(\u001b[0m\u001b[0mx\u001b[0m\u001b[0;34m.\u001b[0m\u001b[0mT\u001b[0m\u001b[0;34m)\u001b[0m\u001b[0;34m**\u001b[0m\u001b[0mi\u001b[0m \u001b[0;34m*\u001b[0m \u001b[0;34m(\u001b[0m\u001b[0my\u001b[0m\u001b[0;34m.\u001b[0m\u001b[0mT\u001b[0m \u001b[0;34m-\u001b[0m \u001b[0mh\u001b[0m\u001b[0;34m(\u001b[0m\u001b[0mx\u001b[0m\u001b[0;34m,\u001b[0m \u001b[0mtheta\u001b[0m\u001b[0;34m,\u001b[0m \u001b[0mk\u001b[0m\u001b[0;34m)\u001b[0m\u001b[0;34m)\u001b[0m\u001b[0;34m)\u001b[0m\u001b[0;34m)\u001b[0m\u001b[0;34m\u001b[0m\u001b[0;34m\u001b[0m\u001b[0m\n\u001b[0m\u001b[1;32m      7\u001b[0m     \u001b[0;32mreturn\u001b[0m \u001b[0mE_grad\u001b[0m\u001b[0;34m\u001b[0m\u001b[0;34m\u001b[0m\u001b[0m\n\u001b[1;32m      8\u001b[0m \u001b[0;34m\u001b[0m\u001b[0m\n",
            "\u001b[0;32m/var/folders/5d/6b5z7q4d4fb1r882y3_fdlsm0000gn/T/ipykernel_2577/858316467.py\u001b[0m in \u001b[0;36mh\u001b[0;34m(x, theta, k, option)\u001b[0m\n\u001b[1;32m      3\u001b[0m     \u001b[0;32mif\u001b[0m \u001b[0moption\u001b[0m\u001b[0;34m:\u001b[0m\u001b[0;34m\u001b[0m\u001b[0;34m\u001b[0m\u001b[0m\n\u001b[1;32m      4\u001b[0m       \u001b[0mprint\u001b[0m\u001b[0;34m(\u001b[0m\u001b[0;34mf'X: {X.shape}, theta: {theta.shape}'\u001b[0m\u001b[0;34m)\u001b[0m\u001b[0;34m\u001b[0m\u001b[0;34m\u001b[0m\u001b[0m\n\u001b[0;32m----> 5\u001b[0;31m     \u001b[0;32mreturn\u001b[0m \u001b[0mX\u001b[0m \u001b[0;34m@\u001b[0m \u001b[0mtheta\u001b[0m\u001b[0;34m\u001b[0m\u001b[0;34m\u001b[0m\u001b[0m\n\u001b[0m",
            "\u001b[0;31mValueError\u001b[0m: matmul: Input operand 1 has a mismatch in its core dimension 0, with gufunc signature (n?,k),(k,m?)->(n?,m?) (size 8 is different from 4)"
          ]
        }
      ],
      "metadata": {
        "id": "EjoBE71NdbIk",
        "colab": {
          "base_uri": "https://localhost:8080/"
        },
        "outputId": "92137233-5049-4d77-ffa6-4a429291efa5"
      }
    },
    {
      "cell_type": "markdown",
      "source": [
        "#### 演習6：パラメータの更新\n",
        "\n",
        "勾配をもとにパラメータを更新します。学習率を0.1とし、パラメータの更新回数を適当に設定して、勾配法に基づいてパラメータの学習を行ってください。パラメータの更新回数は大体50000回程度必要です。"
      ],
      "metadata": {
        "id": "FSb9U3wlvD2E"
      }
    },
    {
      "cell_type": "code",
      "execution_count": null,
      "source": [
        "from tqdm import tqdm #tqdmは progress bar を表示するのに便利な関数です。使っても使わなくても構いません。\n",
        "\n",
        "def gd(X, y, k=3, n_iter=50000):\n",
        "    theta = compute_theta(X, y.T, k)\n",
        "    alpha = 0.1\n",
        "\n",
        "    for i in tqdm(range(n_iter)):\n",
        "      theta -= (alpha * calc_grad(X, y, theta, k)).reshape(theta.shape)\n",
        "\n",
        "    return theta"
      ],
      "outputs": [],
      "metadata": {
        "id": "0nnncMfbvBIV"
      }
    },
    {
      "cell_type": "code",
      "execution_count": null,
      "source": [
        "theta = gd(train_X, train_y)\n",
        "print(theta)"
      ],
      "outputs": [
        {
          "output_type": "stream",
          "name": "stderr",
          "text": [
            "100%|██████████| 50000/50000 [00:03<00:00, 15582.78it/s]"
          ]
        },
        {
          "output_type": "stream",
          "name": "stdout",
          "text": [
            "[[  0.24481642]\n",
            " [  6.72310368]\n",
            " [-25.54963134]\n",
            " [ 19.43011782]]\n"
          ]
        },
        {
          "output_type": "stream",
          "name": "stderr",
          "text": [
            "\n"
          ]
        }
      ],
      "metadata": {
        "colab": {
          "base_uri": "https://localhost:8080/"
        },
        "id": "jPO06VGTs23y",
        "outputId": "98c0338b-4e8a-4c26-9b72-70fae2bc14df"
      }
    },
    {
      "cell_type": "markdown",
      "source": [
        "得られた $\\theta$ を使って、フィッティング後の多項式をテストデータの散布図に重ねて表示してください。\n",
        "\n",
        "勾配降下法を使う場合、初期値によっては解析的な解法ほどうまく予測できていない場合があることに注意してください。"
      ],
      "metadata": {
        "id": "44Yf4GW5yL0a"
      }
    },
    {
      "cell_type": "code",
      "execution_count": null,
      "source": [
        "plt.scatter(X, y)\n",
        "x = np.arange(0, 1, 0.01)\n",
        "plt.plot(x, h(np.array([x]), theta), c='r')"
      ],
      "outputs": [
        {
          "output_type": "execute_result",
          "data": {
            "text/plain": [
              "[<matplotlib.lines.Line2D at 0x11ce3ac10>]"
            ]
          },
          "metadata": {},
          "execution_count": 25
        },
        {
          "output_type": "display_data",
          "data": {
            "image/png": "[encoded data removed]",
            "text/plain": [
              "<Figure size 432x288 with 1 Axes>"
            ]
          },
          "metadata": {
            "needs_background": "light"
          }
        }
      ],
      "metadata": {
        "colab": {
          "base_uri": "https://localhost:8080/",
          "height": 282
        },
        "id": "dfV1Uyp9wTjR",
        "outputId": "42a9dedc-aa85-49fc-8298-b956612e6dc1"
      }
    },
    {
      "cell_type": "markdown",
      "source": [
        "## 多項式の次数と残差の関係\n",
        "\n",
        "これまでは多項式の次数を k=4 としてフィッティングを行いました。多項式の次数を変化させて実験してみましょう。"
      ],
      "metadata": {
        "id": "vNCijlcGv0oz"
      }
    },
    {
      "cell_type": "markdown",
      "source": [
        "### 演習７：次数を変えて多項式フィッティングを実行する\n",
        "\n",
        "多項式の次数を k=0〜7 で変化させ、解析的な解き方で多項式フィッティングを実行し\n",
        "   1. それぞれの次数に対するパラメータの解を求めてください\n",
        "   2. 学習データ・テストデータに対する残差（の二乗平均）を計算してください\n",
        "$$\n",
        "　　\\frac{1}{n} \\sum_{i=1}^n \\{y_i - h(x_i)\\}^2\n",
        "$$\n",
        "\n",
        "最後に、x軸に次数、y軸に残差をとり、学習・テストデータに対する残差をそれぞれ折れ線グラフとして表示してください。そのとき、以下の傾向がみられることを確認してください。\n",
        "   - 次数が k=2 から k=3 になった時に残差が大きく減少する\n",
        "   - 訓練データでは、次数を大きくするにつれて残差が単調に減少していく\n",
        "   - テストデータでは k=3 を超えて次数を大きくすると残差が大きくなる（＝過学習する）"
      ],
      "metadata": {
        "id": "QSrQTg-rwRr8"
      }
    },
    {
      "cell_type": "code",
      "execution_count": 26,
      "source": [
        "n = train_X.size\n",
        "\n",
        "theta = []\n",
        "for i in range(8):\n",
        "  print(i)\n",
        "  theta.append(gd(train_X, train_y, k=i))\n",
        "\n",
        "train_error = []\n",
        "test_error = []\n",
        "\n",
        "for i in range(8):\n",
        "  train_error.append(1/n * np.sum((train_y.T - h(train_X, theta[i], k=i, option=True))**2))\n",
        "  test_error.append(1/n * np.sum((test_y.T - h(test_X, theta[i], k=i, option=True))**2))\n"
      ],
      "outputs": [
        {
          "output_type": "stream",
          "name": "stdout",
          "text": [
            "0\n"
          ]
        },
        {
          "output_type": "stream",
          "name": "stderr",
          "text": [
            "100%|██████████| 50000/50000 [00:00<00:00, 94360.30it/s]\n"
          ]
        },
        {
          "output_type": "stream",
          "name": "stdout",
          "text": [
            "1\n"
          ]
        },
        {
          "output_type": "stream",
          "name": "stderr",
          "text": [
            "100%|██████████| 50000/50000 [00:01<00:00, 45582.34it/s]\n"
          ]
        },
        {
          "output_type": "stream",
          "name": "stdout",
          "text": [
            "2\n"
          ]
        },
        {
          "output_type": "stream",
          "name": "stderr",
          "text": [
            "100%|██████████| 50000/50000 [00:02<00:00, 23610.96it/s]\n"
          ]
        },
        {
          "output_type": "stream",
          "name": "stdout",
          "text": [
            "3\n"
          ]
        },
        {
          "output_type": "stream",
          "name": "stderr",
          "text": [
            "100%|██████████| 50000/50000 [00:03<00:00, 15278.28it/s]\n"
          ]
        },
        {
          "output_type": "stream",
          "name": "stdout",
          "text": [
            "4\n"
          ]
        },
        {
          "output_type": "stream",
          "name": "stderr",
          "text": [
            "100%|██████████| 50000/50000 [00:04<00:00, 10212.73it/s]\n"
          ]
        },
        {
          "output_type": "stream",
          "name": "stdout",
          "text": [
            "5\n"
          ]
        },
        {
          "output_type": "stream",
          "name": "stderr",
          "text": [
            "100%|██████████| 50000/50000 [00:06<00:00, 7830.17it/s]\n"
          ]
        },
        {
          "output_type": "stream",
          "name": "stdout",
          "text": [
            "6\n"
          ]
        },
        {
          "output_type": "stream",
          "name": "stderr",
          "text": [
            "100%|██████████| 50000/50000 [00:08<00:00, 5772.08it/s]\n"
          ]
        },
        {
          "output_type": "stream",
          "name": "stdout",
          "text": [
            "7\n"
          ]
        },
        {
          "output_type": "stream",
          "name": "stderr",
          "text": [
            "100%|██████████| 50000/50000 [00:10<00:00, 4678.61it/s]"
          ]
        },
        {
          "output_type": "stream",
          "name": "stdout",
          "text": [
            "X: (15, 1), theta: (1, 1)\n",
            "X: (15, 1), theta: (1, 1)\n",
            "X: (15, 2), theta: (2, 1)\n",
            "X: (15, 2), theta: (2, 1)\n",
            "X: (15, 3), theta: (3, 1)\n",
            "X: (15, 3), theta: (3, 1)\n",
            "X: (15, 4), theta: (4, 1)\n",
            "X: (15, 4), theta: (4, 1)\n",
            "X: (15, 5), theta: (5, 1)\n",
            "X: (15, 5), theta: (5, 1)\n",
            "X: (15, 6), theta: (6, 1)\n",
            "X: (15, 6), theta: (6, 1)\n",
            "X: (15, 7), theta: (7, 1)\n",
            "X: (15, 7), theta: (7, 1)\n",
            "X: (15, 8), theta: (8, 1)\n",
            "X: (15, 8), theta: (8, 1)\n"
          ]
        },
        {
          "output_type": "stream",
          "name": "stderr",
          "text": [
            "\n"
          ]
        }
      ],
      "metadata": {
        "id": "jCMNw7xH5ovl",
        "colab": {
          "base_uri": "https://localhost:8080/"
        },
        "outputId": "1b57efef-2c0e-463f-c2ab-6880830706a1"
      }
    },
    {
      "cell_type": "code",
      "execution_count": 27,
      "source": [
        "# 対象データ\n",
        "x = [0, 1, 2, 3, 4, 5, 6, 7]  # x軸の値\n",
        "y1 = train_error  # y軸の値\n",
        "y2 = test_error  # y軸の値\n",
        "\n",
        "# figureを生成する\n",
        "fig = plt.figure()\n",
        "\n",
        "# axをfigureに設定する\n",
        "ax = fig.add_subplot(1, 1, 1)\n",
        "\n",
        "# axesにplot\n",
        "ax.plot(x, y1)\n",
        "ax.plot(x, y2)\n",
        "\n",
        "# 汎用要素を表示\n",
        "ax.set_xlabel('Order')  # x軸ラベル\n",
        "ax.set_ylabel('Error')  # y軸ラベル\n",
        "ax.legend(['train', 'test'])  # 凡例を表示"
      ],
      "outputs": [
        {
          "output_type": "execute_result",
          "data": {
            "text/plain": [
              "<matplotlib.legend.Legend at 0x11ceb8d60>"
            ]
          },
          "metadata": {},
          "execution_count": 27
        },
        {
          "output_type": "display_data",
          "data": {
            "image/png": "[encoded data removed]",
            "text/plain": [
              "<Figure size 432x288 with 1 Axes>"
            ]
          },
          "metadata": {
            "needs_background": "light"
          }
        }
      ],
      "metadata": {
        "colab": {
          "base_uri": "https://localhost:8080/",
          "height": 279
        },
        "id": "QeCOyCutsKVc",
        "outputId": "102c9bfb-ecff-4cd0-a9a6-879a0234f7b4"
      }
    },
    {
      "cell_type": "markdown",
      "source": [
        "正解例（グラフは大体こんな形になるはずです）\n",
        "\n",
        "![ダウンロード (1).png](data:image/png;base64,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)"
      ],
      "metadata": {
        "id": "UMbOC4cI5nq3"
      }
    },
    {
      "cell_type": "markdown",
      "source": [
        "### 追加3　numpy の polyfit で同じように誤差を表示してみる"
      ],
      "metadata": {}
    },
    {
      "cell_type": "code",
      "execution_count": 28,
      "source": [
        "n = train_X.size\n",
        "\n",
        "theta = []\n",
        "for i in range(8):\n",
        "  print(i)\n",
        "  theta.append(coe(train_X, train_y, k=i, option=False))\n",
        "\n",
        "print(theta)\n",
        "train_error = []\n",
        "test_error = []\n",
        "\n",
        "for i in range(8):\n",
        "  train_error.append(1/n * np.sum((train_y.T - h(train_X, theta[i][::-1], k=i, option=True).reshape(-1, 1))**2))\n",
        "  test_error.append(1/n * np.sum((test_y.T - h(test_X, theta[i][::-1], k=i, option=True).reshape(-1, 1))**2))\n",
        "\n",
        "# 対象データ\n",
        "x = [0, 1, 2, 3, 4, 5, 6, 7]  # x軸の値\n",
        "y1 = train_error  # y軸の値\n",
        "y2 = test_error  # y軸の値\n",
        "\n",
        "# figureを生成する\n",
        "fig = plt.figure()\n",
        "\n",
        "# axをfigureに設定する\n",
        "ax = fig.add_subplot(1, 1, 1)\n",
        "\n",
        "# axesにplot\n",
        "ax.plot(x, y1)\n",
        "ax.plot(x, y2)\n",
        "\n",
        "# 汎用要素を表示\n",
        "ax.set_xlabel('Order')  # x軸ラベル\n",
        "ax.set_ylabel('Error')  # y軸ラベル\n",
        "ax.legend(['train', 'test'])  # 凡例を表示"
      ],
      "outputs": [
        {
          "output_type": "stream",
          "name": "stdout",
          "text": [
            "0\n",
            "[-0.01072851]\n",
            "1\n",
            "[-0.91929329  0.4814149 ]\n",
            "2\n",
            "[ 4.87201122 -5.94887669  1.29495947]\n",
            "3\n",
            "[ 19.43011782 -25.54963134   6.72310368   0.24481642]\n",
            "4\n",
            "[-15.43155278  53.62814446 -50.82329271  13.58141454  -0.21327731]\n",
            "5\n",
            "[-248.31409381  634.24076104 -560.85746248  202.82389199  -29.84505425\n",
            "    2.06455088]\n",
            "6\n",
            "[  275.55405945 -1119.77425907  1690.4259754  -1171.55651029\n",
            "   372.80100361   -50.02223398     2.86591176]\n",
            "7\n",
            "[-1.69978399e+03  6.69698194e+03 -1.08882568e+04  9.32476377e+03\n",
            " -4.40426404e+03  1.08725525e+03 -1.22108569e+02  5.41247685e+00]\n",
            "[array([-0.01072851]), array([-0.91929329,  0.4814149 ]), array([ 4.87201122, -5.94887669,  1.29495947]), array([ 19.43011782, -25.54963134,   6.72310368,   0.24481642]), array([-15.43155278,  53.62814446, -50.82329271,  13.58141454,\n",
            "        -0.21327731]), array([-248.31409381,  634.24076104, -560.85746248,  202.82389199,\n",
            "        -29.84505425,    2.06455088]), array([  275.55405945, -1119.77425907,  1690.4259754 , -1171.55651029,\n",
            "         372.80100361,   -50.02223398,     2.86591176]), array([-1.69978399e+03,  6.69698194e+03, -1.08882568e+04,  9.32476377e+03,\n",
            "       -4.40426404e+03,  1.08725525e+03, -1.22108569e+02,  5.41247685e+00])]\n",
            "X: (15, 1), theta: (1,)\n",
            "X: (15, 1), theta: (1,)\n",
            "X: (15, 2), theta: (2,)\n",
            "X: (15, 2), theta: (2,)\n",
            "X: (15, 3), theta: (3,)\n",
            "X: (15, 3), theta: (3,)\n",
            "X: (15, 4), theta: (4,)\n",
            "X: (15, 4), theta: (4,)\n",
            "X: (15, 5), theta: (5,)\n",
            "X: (15, 5), theta: (5,)\n",
            "X: (15, 6), theta: (6,)\n",
            "X: (15, 6), theta: (6,)\n",
            "X: (15, 7), theta: (7,)\n",
            "X: (15, 7), theta: (7,)\n",
            "X: (15, 8), theta: (8,)\n",
            "X: (15, 8), theta: (8,)\n"
          ]
        },
        {
          "output_type": "execute_result",
          "data": {
            "text/plain": [
              "<matplotlib.legend.Legend at 0x11cf31820>"
            ]
          },
          "metadata": {},
          "execution_count": 28
        },
        {
          "output_type": "display_data",
          "data": {
            "image/png": "[encoded data removed]",
            "text/plain": [
              "<Figure size 432x288 with 1 Axes>"
            ]
          },
          "metadata": {
            "needs_background": "light"
          }
        }
      ],
      "metadata": {}
    },
    {
      "cell_type": "markdown",
      "source": [
        "# 注意\n",
        "\n",
        "- データが格納されている配列の次元を確認しましょう。`print(<変数>.shape)` で配列の形を確認できます。行列の内積をとる際は特に注意しましょう。\n",
        "- jupyter-notebook のセルを移動しながら実行していると意図しない結果になることがあります。メニューの「ランタイム」>「再起動してすべてのセルを実行」をクリックすると変数がすべてリセットされて一番上のセルから順に実行されます。 **提出前に必ずこの手続きをしてください。**"
      ],
      "metadata": {
        "id": "hZ58S-Z09LaO"
      }
    }
  ]
}